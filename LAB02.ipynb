{
  "nbformat": 4,
  "nbformat_minor": 0,
  "metadata": {
    "colab": {
      "provenance": [],
      "authorship_tag": "ABX9TyOUtmEIqF35InhJR4NmZXoT",
      "include_colab_link": true
    },
    "kernelspec": {
      "name": "python3",
      "display_name": "Python 3"
    },
    "language_info": {
      "name": "python"
    }
  },
  "cells": [
    {
      "cell_type": "markdown",
      "metadata": {
        "id": "view-in-github",
        "colab_type": "text"
      },
      "source": [
        "<a href=\"https://colab.research.google.com/github/Niharika1694/PDS-B24-2303A51694/blob/main/LAB02.ipynb\" target=\"_parent\"><img src=\"https://colab.research.google.com/assets/colab-badge.svg\" alt=\"Open In Colab\"/></a>"
      ]
    },
    {
      "cell_type": "markdown",
      "source": [
        "Create and Manipulate Arrays and Dataframes using Numpy nad pandas in python"
      ],
      "metadata": {
        "id": "EuGYd3x159Rh"
      }
    },
    {
      "cell_type": "code",
      "execution_count": 1,
      "metadata": {
        "id": "PALrTwAb4WVV"
      },
      "outputs": [],
      "source": [
        "import numpy as np\n",
        "import pandas as pd"
      ]
    },
    {
      "cell_type": "code",
      "source": [
        "arr = np.array([10, 20, 30, 40, 50])\n",
        "print('Original Array:', arr)"
      ],
      "metadata": {
        "colab": {
          "base_uri": "https://localhost:8080/"
        },
        "id": "kLZ7-wUC4nwv",
        "outputId": "91285a63-2d05-4377-b002-3f95341b75ad"
      },
      "execution_count": 2,
      "outputs": [
        {
          "output_type": "stream",
          "name": "stdout",
          "text": [
            "Original Array: [10 20 30 40 50]\n"
          ]
        }
      ]
    },
    {
      "cell_type": "code",
      "source": [
        "arr + 5\n",
        "arr * 2\n",
        "arr[arr > 25]\n"
      ],
      "metadata": {
        "colab": {
          "base_uri": "https://localhost:8080/"
        },
        "id": "z-LBmnvb40NW",
        "outputId": "f263715f-6673-4442-e2d8-0232474c7fec"
      },
      "execution_count": 5,
      "outputs": [
        {
          "output_type": "execute_result",
          "data": {
            "text/plain": [
              "array([30, 40, 50])"
            ]
          },
          "metadata": {},
          "execution_count": 5
        }
      ]
    },
    {
      "cell_type": "code",
      "source": [
        "data = {\n",
        "'Name': ['Alice', 'Bob', 'Charlie', 'David'],\n",
        "'Age': [25, 30, 35, 40],\n",
        "'Score': [85.5, 92.0, 88.0, 76.5]\n",
        "}"
      ],
      "metadata": {
        "id": "N0CkF5zw4-fP"
      },
      "execution_count": 6,
      "outputs": []
    },
    {
      "cell_type": "code",
      "source": [
        "df = pd.DataFrame(data)\n",
        "print(\"\\nOriginal DataFrame:\\n\", df)"
      ],
      "metadata": {
        "colab": {
          "base_uri": "https://localhost:8080/"
        },
        "id": "Gu5kbEzI5L4I",
        "outputId": "7a6028d7-f969-456d-aef9-d204511a7bd1"
      },
      "execution_count": 7,
      "outputs": [
        {
          "output_type": "stream",
          "name": "stdout",
          "text": [
            "\n",
            "Original DataFrame:\n",
            "       Name  Age  Score\n",
            "0    Alice   25   85.5\n",
            "1      Bob   30   92.0\n",
            "2  Charlie   35   88.0\n",
            "3    David   40   76.5\n"
          ]
        }
      ]
    },
    {
      "cell_type": "code",
      "source": [
        "df['Passed'] = df['Score'] >= 80\n",
        "print(\"\\nDataFrame with 'Passed' column:\\n\", df)"
      ],
      "metadata": {
        "colab": {
          "base_uri": "https://localhost:8080/"
        },
        "id": "VGSRX06S5XJl",
        "outputId": "79ffcf60-800d-4127-a4da-ec35b4b096e6"
      },
      "execution_count": 8,
      "outputs": [
        {
          "output_type": "stream",
          "name": "stdout",
          "text": [
            "\n",
            "DataFrame with 'Passed' column:\n",
            "       Name  Age  Score  Passed\n",
            "0    Alice   25   85.5    True\n",
            "1      Bob   30   92.0    True\n",
            "2  Charlie   35   88.0    True\n",
            "3    David   40   76.5   False\n"
          ]
        }
      ]
    },
    {
      "cell_type": "code",
      "source": [
        "older_students = df[df['Age'] > 30]\n",
        "print(\"\\nStudents older than 30:\\n\", older_students)"
      ],
      "metadata": {
        "colab": {
          "base_uri": "https://localhost:8080/"
        },
        "id": "mSSRky_L5dYv",
        "outputId": "27d391b3-4ba8-48eb-8f3b-2875f1fa110d"
      },
      "execution_count": 9,
      "outputs": [
        {
          "output_type": "stream",
          "name": "stdout",
          "text": [
            "\n",
            "Students older than 30:\n",
            "       Name  Age  Score  Passed\n",
            "2  Charlie   35   88.0    True\n",
            "3    David   40   76.5   False\n"
          ]
        }
      ]
    },
    {
      "cell_type": "code",
      "source": [
        "average_score = df['Score'].mean()\n",
        "print(\"\\nAverage Score:\", average_score)"
      ],
      "metadata": {
        "colab": {
          "base_uri": "https://localhost:8080/"
        },
        "id": "ZoP9ZTWN5i1r",
        "outputId": "21c9808b-06e4-4a48-8c2d-5d4f46a88555"
      },
      "execution_count": 10,
      "outputs": [
        {
          "output_type": "stream",
          "name": "stdout",
          "text": [
            "\n",
            "Average Score: 85.5\n"
          ]
        }
      ]
    }
  ]
}